{
  "nbformat": 4,
  "nbformat_minor": 0,
  "metadata": {
    "colab": {
      "provenance": [],
      "authorship_tag": "ABX9TyNm50rWOumrLMGZOmQ63UMf",
      "include_colab_link": true
    },
    "kernelspec": {
      "name": "python3",
      "display_name": "Python 3"
    },
    "language_info": {
      "name": "python"
    }
  },
  "cells": [
    {
      "cell_type": "markdown",
      "metadata": {
        "id": "view-in-github",
        "colab_type": "text"
      },
      "source": [
        "<a href=\"https://colab.research.google.com/github/themuditjain/Genxlead-Project-URL-Encryption-and-shortening/blob/main/Gnexlead_URL_Shortening_and_encryption.ipynb\" target=\"_parent\"><img src=\"https://colab.research.google.com/assets/colab-badge.svg\" alt=\"Open In Colab\"/></a>"
      ]
    },
    {
      "cell_type": "code",
      "source": [
        "pip install pyshorteners"
      ],
      "metadata": {
        "colab": {
          "base_uri": "https://localhost:8080/"
        },
        "id": "G9SWN5imgba5",
        "outputId": "d0398ca5-0bd0-4ff9-9ebd-38680ec876d4"
      },
      "execution_count": 4,
      "outputs": [
        {
          "output_type": "stream",
          "name": "stdout",
          "text": [
            "Looking in indexes: https://pypi.org/simple, https://us-python.pkg.dev/colab-wheels/public/simple/\n",
            "Collecting pyshorteners\n",
            "  Downloading pyshorteners-1.0.1.tar.gz (10.0 kB)\n",
            "  Preparing metadata (setup.py) ... \u001b[?25l\u001b[?25hdone\n",
            "Requirement already satisfied: requests in /usr/local/lib/python3.9/dist-packages (from pyshorteners) (2.27.1)\n",
            "Requirement already satisfied: idna<4,>=2.5 in /usr/local/lib/python3.9/dist-packages (from requests->pyshorteners) (3.4)\n",
            "Requirement already satisfied: certifi>=2017.4.17 in /usr/local/lib/python3.9/dist-packages (from requests->pyshorteners) (2022.12.7)\n",
            "Requirement already satisfied: charset-normalizer~=2.0.0 in /usr/local/lib/python3.9/dist-packages (from requests->pyshorteners) (2.0.12)\n",
            "Requirement already satisfied: urllib3<1.27,>=1.21.1 in /usr/local/lib/python3.9/dist-packages (from requests->pyshorteners) (1.26.15)\n",
            "Building wheels for collected packages: pyshorteners\n",
            "  Building wheel for pyshorteners (setup.py) ... \u001b[?25l\u001b[?25hdone\n",
            "  Created wheel for pyshorteners: filename=pyshorteners-1.0.1-py3-none-any.whl size=17493 sha256=a926cad8c1b10112e41b1cea63b94ea5e8f001aafbcb1951e75dbabd9a17505e\n",
            "  Stored in directory: /root/.cache/pip/wheels/51/56/d8/765ad4c919190fbd24541487735547e6c665c9381d4d689ae8\n",
            "Successfully built pyshorteners\n",
            "Installing collected packages: pyshorteners\n",
            "Successfully installed pyshorteners-1.0.1\n"
          ]
        }
      ]
    },
    {
      "cell_type": "code",
      "execution_count": 11,
      "metadata": {
        "colab": {
          "base_uri": "https://localhost:8080/"
        },
        "id": "UmcbFZjlfvfh",
        "outputId": "97e49007-938f-4870-a793-196c3fd7974c"
      },
      "outputs": [
        {
          "output_type": "stream",
          "name": "stdout",
          "text": [
            "Enter the URL to shorten: https://web.whatsapp.com/\n",
            "Shortened URL is 3310cc9a\n"
          ]
        }
      ],
      "source": [
        "import hashlib\n",
        "\n",
        "def get_short_url(url):\n",
        "    # Use SHA256 to hash the URL\n",
        "    hash_object = hashlib.sha256(url.encode())\n",
        "    hash_value = hash_object.hexdigest()\n",
        "    # Take the first 8 characters of the hash value as the shortened URL\n",
        "    short_url = hash_value[:8]\n",
        "    return short_url\n",
        "\n",
        "url = input(\"Enter the URL to shorten: \")\n",
        "url = get_short_url(url)\n",
        "    #    type_tiny = pyshorteners.Shortener()\n",
        "    #    short_url = type_tiny.tinyurl.short(url)\n",
        "print(\"Shortened URL is \"+url)"
      ]
    }
  ]
}